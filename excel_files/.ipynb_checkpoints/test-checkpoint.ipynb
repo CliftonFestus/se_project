{
 "cells": [
  {
   "cell_type": "code",
   "execution_count": 4,
   "id": "127949cd",
   "metadata": {},
   "outputs": [
    {
     "name": "stdout",
     "output_type": "stream",
     "text": [
      "'Advanced Workout Plan-converted.xlsx'\r\n",
      " Beginner-converted.xlsx\r\n",
      "'Beginner Day 1-converted.xlsx'\r\n",
      "'Beginner Day 2-converted.xlsx'\r\n",
      "'Beginner Day 3-converted.xlsx'\r\n",
      "'Beginner Day 4-converted.xlsx'\r\n",
      "'Beginner Day 5-converted.xlsx'\r\n",
      "'Diet Plan (Beginner)-converted.xlsx'\r\n",
      "'Exercise 1.csv'\r\n",
      "'Fat Loss Diet Plan (Females)-converted.xlsx'\r\n",
      "'Intermidiate Diet Plan-converted.xlsx'\r\n",
      "'Intermidiate Muscle Building (Men)-converted.xlsx'\r\n",
      "'Muscle Gain Diet Plan (Men)-converted.xlsx'\r\n",
      " test.ipynb\r\n",
      " xcel1.xlsx\r\n"
     ]
    }
   ],
   "source": [
    "import pandas as pd\n",
    "%ls"
   ]
  },
  {
   "cell_type": "code",
   "execution_count": 10,
   "id": "eb152451",
   "metadata": {},
   "outputs": [
    {
     "data": {
      "text/html": [
       "<div>\n",
       "<style scoped>\n",
       "    .dataframe tbody tr th:only-of-type {\n",
       "        vertical-align: middle;\n",
       "    }\n",
       "\n",
       "    .dataframe tbody tr th {\n",
       "        vertical-align: top;\n",
       "    }\n",
       "\n",
       "    .dataframe thead th {\n",
       "        text-align: right;\n",
       "    }\n",
       "</style>\n",
       "<table border=\"1\" class=\"dataframe\">\n",
       "  <thead>\n",
       "    <tr style=\"text-align: right;\">\n",
       "      <th></th>\n",
       "      <th>IDs</th>\n",
       "      <th>Passwords</th>\n",
       "    </tr>\n",
       "  </thead>\n",
       "  <tbody>\n",
       "    <tr>\n",
       "      <th>0</th>\n",
       "      <td>Aditya_N</td>\n",
       "      <td>1234</td>\n",
       "    </tr>\n",
       "    <tr>\n",
       "      <th>1</th>\n",
       "      <td>Arslan_M</td>\n",
       "      <td>2345</td>\n",
       "    </tr>\n",
       "    <tr>\n",
       "      <th>2</th>\n",
       "      <td>Clifton_F</td>\n",
       "      <td>3456</td>\n",
       "    </tr>\n",
       "    <tr>\n",
       "      <th>3</th>\n",
       "      <td>Rohan_R</td>\n",
       "      <td>4567</td>\n",
       "    </tr>\n",
       "    <tr>\n",
       "      <th>4</th>\n",
       "      <td>Shashank_K</td>\n",
       "      <td>5678</td>\n",
       "    </tr>\n",
       "    <tr>\n",
       "      <th>5</th>\n",
       "      <td>Chirayu_P</td>\n",
       "      <td>6789</td>\n",
       "    </tr>\n",
       "  </tbody>\n",
       "</table>\n",
       "</div>"
      ],
      "text/plain": [
       "          IDs  Passwords\n",
       "0    Aditya_N       1234\n",
       "1    Arslan_M       2345\n",
       "2   Clifton_F       3456\n",
       "3     Rohan_R       4567\n",
       "4  Shashank_K       5678\n",
       "5   Chirayu_P       6789"
      ]
     },
     "execution_count": 10,
     "metadata": {},
     "output_type": "execute_result"
    }
   ],
   "source": [
    "logins= pd.read_excel('../logins.xlsx')\n",
    "logins"
   ]
  },
  {
   "cell_type": "code",
   "execution_count": 15,
   "id": "66f34489",
   "metadata": {},
   "outputs": [
    {
     "name": "stdout",
     "output_type": "stream",
     "text": [
      "Username:  Aditya_N\n"
     ]
    }
   ],
   "source": [
    "username = input('Username:  ')"
   ]
  },
  {
   "cell_type": "code",
   "execution_count": 16,
   "id": "d660ffd5",
   "metadata": {},
   "outputs": [],
   "source": [
    "if username in logins['IDs']:\n",
    "    print('Valid username')"
   ]
  },
  {
   "cell_type": "code",
   "execution_count": null,
   "id": "9b5fce38",
   "metadata": {},
   "outputs": [],
   "source": []
  }
 ],
 "metadata": {
  "kernelspec": {
   "display_name": "Python 3 (ipykernel)",
   "language": "python",
   "name": "python3"
  },
  "language_info": {
   "codemirror_mode": {
    "name": "ipython",
    "version": 3
   },
   "file_extension": ".py",
   "mimetype": "text/x-python",
   "name": "python",
   "nbconvert_exporter": "python",
   "pygments_lexer": "ipython3",
   "version": "3.9.7"
  }
 },
 "nbformat": 4,
 "nbformat_minor": 5
}
